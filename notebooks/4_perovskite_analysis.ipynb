{
 "cells": [
  {
   "cell_type": "code",
   "execution_count": 1,
   "metadata": {},
   "outputs": [],
   "source": [
    "from pathlib import Path\n",
    "\n",
    "import numpy as np\n",
    "import pandas as pd\n",
    "from ase import units\n",
    "from scipy.integrate import trapezoid"
   ]
  },
  {
   "cell_type": "markdown",
   "metadata": {},
   "source": [
    "### Frenkel–Ladd path"
   ]
  },
  {
   "cell_type": "code",
   "execution_count": 2,
   "metadata": {},
   "outputs": [],
   "source": [
    "def integrate_switching(\n",
    "    df_log: pd.DataFrame,\n",
    "    equil_time: int = 20000,\n",
    "    switch_time: int = 30000,\n",
    "    return_E_diss: bool = False,\n",
    "):\n",
    "    fwd_start, fwd_end = equil_time, equil_time + switch_time\n",
    "    rev_start, rev_end = 2 * equil_time + switch_time, 2 * equil_time + 2 * switch_time\n",
    "    grad, lamda = df_log[\"lambda_grad\"], df_log[\"lambda\"]\n",
    "    W_fwd = trapezoid(grad[fwd_start:fwd_end], lamda[fwd_start:fwd_end])\n",
    "    W_rev = trapezoid(grad[rev_start:rev_end], lamda[rev_start:rev_end])\n",
    "    if return_E_diss:\n",
    "        return (W_fwd - W_rev) / 2, (W_fwd + W_rev) / 2\n",
    "    return (W_fwd - W_rev) / 2  # free energy difference\n",
    "\n",
    "\n",
    "def analyze_frenkel_ladd(\n",
    "    base_path: Path,\n",
    "    temp: float,\n",
    "    equil_time: int = 20000,\n",
    "    switch_time: int = 30000,\n",
    "):\n",
    "    T = temp\n",
    "    df_log = pd.read_csv(base_path / \"observables.csv\")\n",
    "    k = np.load(base_path / \"spring_constants.npy\")\n",
    "    mass = np.load(base_path / \"masses.npy\")\n",
    "    omega = np.sqrt(k / mass)\n",
    "    volume = df_log[\"volume\"].values[0]\n",
    "\n",
    "    delta_F = integrate_switching(df_log, equil_time, switch_time)\n",
    "    F_E = 3 * units.kB * T * np.mean(np.log(units._hbar * omega / (units.kB * T)))\n",
    "    PV = volume * 1.01325 * units.bar\n",
    "    delta_G = delta_F + F_E + PV\n",
    "\n",
    "    return delta_G\n",
    "\n",
    "\n",
    "def analyze_alchemical_switching(\n",
    "    base_path: Path,\n",
    "    temp: float,\n",
    "    equil_time: int = 20000,\n",
    "    switch_time: int = 30000,\n",
    "):\n",
    "    T = temp\n",
    "    df_log = pd.read_csv(base_path / \"observables.csv\")\n",
    "    mass_init = np.load(base_path / \"masses_init.npy\")\n",
    "    mass_final = np.load(base_path / \"masses_final.npy\")\n",
    "\n",
    "    work = integrate_switching(df_log, equil_time, switch_time)\n",
    "    G_mass = 1.5 * units.kB * T * np.mean(np.log(mass_init / mass_final))\n",
    "    delta_G = work + G_mass\n",
    "\n",
    "    return delta_G"
   ]
  },
  {
   "cell_type": "code",
   "execution_count": 3,
   "metadata": {},
   "outputs": [
    {
     "name": "stdout",
     "output_type": "stream",
     "text": [
      "CsPbI3 Alpha G (300 K) = -8.8514 ± 0.0003 eV/atom\n",
      "CsPbI3 Alpha G (350 K) = -9.8642 ± 0.0004 eV/atom\n",
      "CsPbI3 Alpha G (400 K) = -10.8783 ± 0.0006 eV/atom\n",
      "CsPbI3 Alpha G (450 K) = -11.8943 ± 0.0003 eV/atom\n",
      "CsPbI3 Alpha G (500 K) = -12.9119 ± 0.0004 eV/atom\n",
      "CsPbI3 Delta G (300 K) = -8.8560 ± 0.0001 eV/atom\n",
      "CsPbI3 Delta G (350 K) = -9.8660 ± 0.0001 eV/atom\n",
      "CsPbI3 Delta G (400 K) = -10.8782 ± 0.0002 eV/atom\n",
      "CsPbI3 Delta G (450 K) = -11.8921 ± 0.0002 eV/atom\n",
      "CsPbI3 Delta G (500 K) = -12.9072 ± 0.0002 eV/atom\n"
     ]
    }
   ],
   "source": [
    "result_path = Path(\"../data/results/perovskite/frenkel_ladd\")\n",
    "temp_range = [300, 350, 400, 450, 500]\n",
    "\n",
    "G_alpha = []\n",
    "G_alpha_std = []\n",
    "for temp in temp_range:\n",
    "    G_list = []\n",
    "    for i in range(4):\n",
    "        base_path = result_path / f\"CsPbI3_alpha_6x6x6_{temp}K/{i}\"\n",
    "        G_list.append(analyze_frenkel_ladd(base_path, temp=temp))\n",
    "    G = np.mean(G_list)\n",
    "    G_std = np.std(G_list)\n",
    "    print(f\"CsPbI3 Alpha G ({temp} K) = {G:.4f} ± {G_std:.4f} eV/atom\")\n",
    "    G_alpha.append(G)\n",
    "    G_alpha_std.append(G_std)\n",
    "\n",
    "G_delta = []\n",
    "G_delta_std = []\n",
    "for temp in temp_range:\n",
    "    G_list = []\n",
    "    for i in range(4):\n",
    "        base_path = result_path / f\"CsPbI3_delta_6x3x3_{temp}K/{i}\"\n",
    "        G_list.append(analyze_frenkel_ladd(base_path, temp=temp))\n",
    "    G = np.mean(G_list)\n",
    "    G_std = np.std(G_list)\n",
    "    print(f\"CsPbI3 Delta G ({temp} K) = {G:.4f} ± {G_std:.4f} eV/atom\")\n",
    "    G_delta.append(G)\n",
    "    G_delta_std.append(G_std)"
   ]
  },
  {
   "cell_type": "code",
   "execution_count": 4,
   "metadata": {},
   "outputs": [
    {
     "name": "stdout",
     "output_type": "stream",
     "text": [
      "CsSnI3 Alpha G (300 K) = -8.8297 ± 0.0002 eV/atom\n",
      "CsSnI3 Alpha G (350 K) = -9.8413 ± 0.0002 eV/atom\n",
      "CsSnI3 Alpha G (400 K) = -10.8544 ± 0.0002 eV/atom\n",
      "CsSnI3 Alpha G (450 K) = -11.8695 ± 0.0003 eV/atom\n",
      "CsSnI3 Alpha G (500 K) = -12.8863 ± 0.0003 eV/atom\n",
      "CsSnI3 Delta G (300 K) = -8.8289 ± 0.0001 eV/atom\n",
      "CsSnI3 Delta G (350 K) = -9.8381 ± 0.0000 eV/atom\n",
      "CsSnI3 Delta G (400 K) = -10.8494 ± 0.0003 eV/atom\n",
      "CsSnI3 Delta G (450 K) = -11.8627 ± 0.0003 eV/atom\n",
      "CsSnI3 Delta G (500 K) = -12.8771 ± 0.0003 eV/atom\n"
     ]
    }
   ],
   "source": [
    "G_CsSnI3_alpha = []\n",
    "G_CsSnI3_alpha_std = []\n",
    "for temp in temp_range:\n",
    "    G_list = []\n",
    "    for i in range(4):\n",
    "        base_path = result_path / f\"CsSnI3_alpha_6x6x6_{temp}K/{i}\"\n",
    "        G_list.append(analyze_frenkel_ladd(base_path, temp=temp))\n",
    "    G = np.mean(G_list)\n",
    "    G_std = np.std(G_list)\n",
    "    print(f\"CsSnI3 Alpha G ({temp} K) = {G:.4f} ± {G_std:.4f} eV/atom\")\n",
    "    G_CsSnI3_alpha.append(G)\n",
    "    G_CsSnI3_alpha_std.append(G_std)\n",
    "\n",
    "G_CsSnI3_delta = []\n",
    "G_CsSnI3_delta_std = []\n",
    "for temp in temp_range:\n",
    "    G_list = []\n",
    "    for i in range(4):\n",
    "        base_path = result_path / f\"CsSnI3_delta_6x3x3_{temp}K/{i}\"\n",
    "        G_list.append(analyze_frenkel_ladd(base_path, temp=temp))\n",
    "    G = np.mean(G_list)\n",
    "    G_std = np.std(G_list)\n",
    "    print(f\"CsSnI3 Delta G ({temp} K) = {G:.4f} ± {G_std:.4f} eV/atom\")\n",
    "    G_CsSnI3_delta.append(G)\n",
    "    G_CsSnI3_delta_std.append(G_std)"
   ]
  },
  {
   "cell_type": "markdown",
   "metadata": {},
   "source": [
    "### Alchemical path"
   ]
  },
  {
   "cell_type": "code",
   "execution_count": 5,
   "metadata": {},
   "outputs": [
    {
     "name": "stdout",
     "output_type": "stream",
     "text": [
      "Alpha ΔG (300 K) = 0.0233 ± 0.0001 eV/atom\n",
      "Alpha ΔG (350 K) = 0.0236 ± 0.0001 eV/atom\n",
      "Alpha ΔG (400 K) = 0.0241 ± 0.0001 eV/atom\n",
      "Alpha ΔG (450 K) = 0.0249 ± 0.0000 eV/atom\n",
      "Alpha ΔG (500 K) = 0.0258 ± 0.0000 eV/atom\n",
      "Delta ΔG (300 K) = 0.0271 ± 0.0000 eV/atom\n",
      "Delta ΔG (350 K) = 0.0279 ± 0.0000 eV/atom\n",
      "Delta ΔG (400 K) = 0.0286 ± 0.0000 eV/atom\n",
      "Delta ΔG (450 K) = 0.0294 ± 0.0000 eV/atom\n",
      "Delta ΔG (500 K) = 0.0301 ± 0.0000 eV/atom\n"
     ]
    }
   ],
   "source": [
    "result_path = Path(\"../data/results/perovskite/alchemy\")\n",
    "\n",
    "G_alpha = []\n",
    "G_alpha_std = []\n",
    "for temp in temp_range:\n",
    "    G_list = []\n",
    "    for i in range(4):\n",
    "        base_path = result_path / f\"CsPbI3_CsSnI3_alpha_{temp}K/{i}\"\n",
    "        G_list.append(analyze_alchemical_switching(base_path, temp=temp))\n",
    "    G = np.mean(G_list)\n",
    "    G_std = np.std(G_list)\n",
    "    print(f\"Alpha ΔG ({temp} K) = {G:.4f} ± {G_std:.4f} eV/atom\")\n",
    "    G_alpha.append(G)\n",
    "    G_alpha_std.append(G_std)\n",
    "\n",
    "G_delta = []\n",
    "G_delta_std = []\n",
    "for temp in temp_range:\n",
    "    G_list = []\n",
    "    for i in range(4):\n",
    "        base_path = result_path / f\"CsPbI3_CsSnI3_delta_{temp}K/{i}\"\n",
    "        G_list.append(analyze_alchemical_switching(base_path, temp=temp))\n",
    "    G = np.mean(G_list)\n",
    "    G_std = np.std(G_list)\n",
    "    print(f\"Delta ΔG ({temp} K) = {G:.4f} ± {G_std:.4f} eV/atom\")\n",
    "    G_delta.append(G)\n",
    "    G_delta_std.append(G_std)"
   ]
  }
 ],
 "metadata": {
  "kernelspec": {
   "display_name": "chgnet",
   "language": "python",
   "name": "python3"
  },
  "language_info": {
   "codemirror_mode": {
    "name": "ipython",
    "version": 3
   },
   "file_extension": ".py",
   "mimetype": "text/x-python",
   "name": "python",
   "nbconvert_exporter": "python",
   "pygments_lexer": "ipython3",
   "version": "3.10.14"
  }
 },
 "nbformat": 4,
 "nbformat_minor": 2
}
